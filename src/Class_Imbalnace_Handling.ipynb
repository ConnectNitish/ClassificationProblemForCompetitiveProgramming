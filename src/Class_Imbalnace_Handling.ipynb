{
 "cells": [
  {
   "cell_type": "code",
   "execution_count": 1,
   "metadata": {
    "ExecuteTime": {
     "end_time": "2019-04-29T08:40:42.197166Z",
     "start_time": "2019-04-29T08:40:31.137150Z"
    }
   },
   "outputs": [
    {
     "name": "stderr",
     "output_type": "stream",
     "text": [
      "Using TensorFlow backend.\n"
     ]
    }
   ],
   "source": [
    "import numpy as np\n",
    "import pandas as pd\n",
    "import ssl\n",
    "import copy\n",
    "import matplotlib.pyplot as plt\n",
    "import seaborn as sns\n",
    "%matplotlib inline\n",
    "import re\n",
    "import random\n",
    "import pickle\n",
    "from pprint import pprint\n",
    "\n",
    "from imblearn.over_sampling import RandomOverSampler,SMOTE, ADASYN, SMOTENC, SVMSMOTE\n",
    "from imblearn.pipeline import make_pipeline\n",
    "\n",
    "from imblearn.under_sampling import RandomUnderSampler\n",
    "\n",
    "\n",
    "from sklearn.metrics import hamming_loss, roc_auc_score\n",
    "from sklearn.metrics import confusion_matrix \n",
    "from sklearn.model_selection import train_test_split \n",
    "\n",
    "from nltk.stem import PorterStemmer\n",
    "from nltk.corpus import wordnet\n",
    "from nltk.stem import WordNetLemmatizer\n",
    "from nltk import pos_tag\n",
    "from nltk.corpus import stopwords \n",
    "from nltk.tokenize import word_tokenize \n",
    "import wordcloud\n",
    "\n",
    "from sklearn.pipeline import Pipeline\n",
    "from sklearn.metrics import accuracy_score, recall_score, precision_score, f1_score, roc_curve\n",
    "from sklearn.linear_model import LogisticRegression, SGDClassifier\n",
    "from sklearn.feature_extraction.text import CountVectorizer\n",
    "from sklearn.svm import LinearSVC, NuSVC\n",
    "from sklearn.naive_bayes import MultinomialNB\n",
    "from sklearn.feature_extraction.text import TfidfTransformer, TfidfVectorizer\n",
    "from sklearn.multiclass import OneVsRestClassifier\n",
    "from sklearn.preprocessing import MultiLabelBinarizer\n",
    "\n",
    "\n",
    "\n",
    "import scikitplot as skplt\n",
    "import matplotlib.pyplot as plt\n",
    "\n",
    "from keras import optimizers\n",
    "from keras.losses import binary_crossentropy\n",
    "from keras.metrics import binary_accuracy\n",
    "from keras.layers import Dense, Embedding, LSTM, SpatialDropout1D\n",
    "from keras.models import Sequential\n",
    "from keras.preprocessing.text import Tokenizer\n",
    "from keras.preprocessing.sequence import pad_sequences\n",
    "from keras.utils.np_utils import to_categorical\n",
    "from keras.callbacks import EarlyStopping\n",
    "\n",
    "from scipy.special import softmax\n",
    "\n",
    "ssl._create_default_https_context = ssl._create_unverified_context"
   ]
  },
  {
   "cell_type": "code",
   "execution_count": 2,
   "metadata": {
    "ExecuteTime": {
     "end_time": "2019-04-29T08:40:42.203829Z",
     "start_time": "2019-04-29T08:40:42.199060Z"
    },
    "code_folding": [
     0
    ]
   },
   "outputs": [],
   "source": [
    "def clean_statement(statement):\n",
    "#     x = re.sub('-', ' ', x)\n",
    "    statement = re.sub('$', ' ', statement)\n",
    "    statement = re.sub('[^A-Za-z]+', ' ', statement)\n",
    "    statement = re.sub('[,|.|?|\\n]|\\t', '', statement)\n",
    "    statement = re.sub('n\\'t', ' ', statement)\n",
    "    statement = re.sub('submission|submissions|Submission|submission|th ', '', statement)\n",
    "    statement = re.sub('one|two|given|need', '', statement)\n",
    "    \n",
    "    return statement"
   ]
  },
  {
   "cell_type": "code",
   "execution_count": 3,
   "metadata": {
    "ExecuteTime": {
     "end_time": "2019-04-29T08:40:42.489430Z",
     "start_time": "2019-04-29T08:40:42.205541Z"
    },
    "code_folding": [
     0
    ]
   },
   "outputs": [],
   "source": [
    "def process_problem_statement(q_statement):\n",
    "    \n",
    "    q_statement = clean_statement(q_statement)\n",
    "    \n",
    "#     q_statement = re.sub('[^A-Za-z]+', ' ', q_statement)\n",
    "    \n",
    "    tokens = word_tokenize(q_statement)\n",
    "    \n",
    "    stoplist = set(stopwords.words('english'))\n",
    "    \n",
    "    word_list = [i for i in q_statement.lower().split() if i not in stoplist]\n",
    "    \n",
    "    ps = PorterStemmer()\n",
    "    \n",
    "#     word_list = [ps.stem(word) for word in word_list]\n",
    "    \n",
    "    q_statement = ' '.join(word_list)\n",
    "    \n",
    "#     print(q_statement)\n",
    "    \n",
    "    return q_statement"
   ]
  },
  {
   "cell_type": "code",
   "execution_count": 4,
   "metadata": {
    "ExecuteTime": {
     "end_time": "2019-04-29T08:40:45.102584Z",
     "start_time": "2019-04-29T08:40:42.493018Z"
    },
    "code_folding": [
     0
    ]
   },
   "outputs": [],
   "source": [
    "def process_problem_solution(solution):\n",
    "    \n",
    "#     solution = clean_statement(solution)\n",
    "    \n",
    "    tokens = word_tokenize(solution)\n",
    "    \n",
    "    stoplist = set(stopwords.words('english'))\n",
    "    \n",
    "    word_list = [i for i in solution.lower().split() if i not in stoplist]\n",
    "    \n",
    "#     ps = PorterStemmer()\n",
    "    \n",
    "#     word_list = [ps.stem(word) for word in word_list]\n",
    "    \n",
    "    solution = ' '.join(word_list)\n",
    "    \n",
    "#     print(q_statement)\n",
    "    \n",
    "    return solution"
   ]
  },
  {
   "cell_type": "code",
   "execution_count": 5,
   "metadata": {
    "ExecuteTime": {
     "end_time": "2019-04-29T08:40:45.324919Z",
     "start_time": "2019-04-29T08:40:45.120598Z"
    },
    "code_folding": [
     0
    ]
   },
   "outputs": [],
   "source": [
    "def process_time_taken(time_col):\n",
    "#     print(time_col.split())\n",
    "    return time_col.split()[0]"
   ]
  },
  {
   "cell_type": "code",
   "execution_count": 6,
   "metadata": {
    "ExecuteTime": {
     "end_time": "2019-04-29T08:40:45.664658Z",
     "start_time": "2019-04-29T08:40:45.329983Z"
    },
    "code_folding": [
     0
    ]
   },
   "outputs": [],
   "source": [
    "def process_tags(all_tags_list,tag_col):\n",
    "    \n",
    "#     print(tag_col)\n",
    "    tags_present = list(re.split(',',tag_col))\n",
    "    return tags_present"
   ]
  },
  {
   "cell_type": "code",
   "execution_count": 7,
   "metadata": {
    "ExecuteTime": {
     "end_time": "2019-04-29T08:40:45.923741Z",
     "start_time": "2019-04-29T08:40:45.669828Z"
    },
    "code_folding": [
     0
    ]
   },
   "outputs": [],
   "source": [
    "def get_all_distinct_tags(tags_col):\n",
    "    \n",
    "    tags_list = []\n",
    "    \n",
    "    t_sets = set(tags_list)\n",
    "    \n",
    "    for row in tags_col:\n",
    "#         print(row)\n",
    "        t_list = re.split(',',row)\n",
    "#         print(t_list)\n",
    "        t_sets = t_sets.union(set(t_list))\n",
    "#         print(t_sets)\n",
    "    tags_list = list(t_sets)\n",
    "    \n",
    "    stoplist = set(stopwords.words('english'))\n",
    "    \n",
    "    word_list = [i for i in tags_list if i not in stoplist]\n",
    "    \n",
    "    return tags_list"
   ]
  },
  {
   "cell_type": "code",
   "execution_count": 8,
   "metadata": {
    "ExecuteTime": {
     "end_time": "2019-04-29T08:40:46.130586Z",
     "start_time": "2019-04-29T08:40:45.931047Z"
    },
    "code_folding": []
   },
   "outputs": [],
   "source": [
    "# tag list obtained from the dataset\n",
    "# global tags_list\n",
    "\n",
    "tags_list = ['dsu', 'trees', 'chinese remainder theorem', 'sortings', 'games', 'implementation', 'bitmasks',\n",
    "              '*special', 'hashing', 'geometry', 'two pointers', 'combinatorics', 'flows', 'strings',\n",
    "              'probabilities', 'data structures', 'ternary search', 'greedy', 'math', 'matrices',\n",
    "              'divide and conquer', 'dfs and similar', 'constructive algorithms', 'brute force', 'dp',\n",
    "              '2-sat', 'graph matchings', 'binary search', 'number theory', 'graphs', 'fft', 'shortest paths',\n",
    "              'schedules', 'meet-in-the-middle', 'string suffix structures', 'expression parsing']\n",
    "\n"
   ]
  },
  {
   "cell_type": "code",
   "execution_count": 9,
   "metadata": {
    "ExecuteTime": {
     "end_time": "2019-04-29T08:40:46.382115Z",
     "start_time": "2019-04-29T08:40:46.136558Z"
    },
    "code_folding": [
     0
    ]
   },
   "outputs": [],
   "source": [
    "def plot_class_distribution(Y,classes):\n",
    "    \n",
    "    count_list = [0]*Y.shape[1]\n",
    "    \n",
    "    for index in range(Y.shape[1]):\n",
    "        \n",
    "        count_list[index] = np.sum(Y[:,index])/Y.shape[0]\n",
    "    \n",
    "    plt.figure(figsize=(8, 8), dpi=100)\n",
    "    \n",
    "    plt.barh(classes,count_list, align='center', alpha=0.5)\n",
    "#     plt.bar(np.arange(Y.shape[1]),count_list, align='center', alpha=0.5)\n",
    "#     plt.plot(np.arange(Y.shape[1]),count_list)\n",
    "    plt.show()\n",
    "    "
   ]
  },
  {
   "cell_type": "code",
   "execution_count": 10,
   "metadata": {
    "ExecuteTime": {
     "end_time": "2019-04-29T08:45:08.981805Z",
     "start_time": "2019-04-29T08:45:08.961822Z"
    },
    "code_folding": []
   },
   "outputs": [],
   "source": [
    "def data_preprocessing():\n",
    "    \n",
    "    global X, Y, mlb, distinct_tags\n",
    "    \n",
    "    df = pd.read_csv(\"codeforces_question_v5.csv\")\n",
    "    df = df.drop(['id','name','author'],axis = 1)\n",
    "    df = df[df.solution != \"no code found\"]\n",
    "    df = df.dropna()\n",
    "    \n",
    "    distinct_tags = get_all_distinct_tags(df[\"tags\"])\n",
    "    \n",
    "    df[\"problem statement\"] = [process_problem_statement(x) for x in df[\"problem statement\"]]\n",
    "    df[\"solution\"] = [process_problem_solution(x) for x in df[\"solution\"]]\n",
    "    df[\"time_taken\"] = [process_time_taken(x) for x in df[\"time_taken\"]]\n",
    "    \n",
    "#     X = copy.deepcopy(df[\"solution\"]+df[\"time_taken\"])\n",
    "#     X = copy.deepcopy(df[\"solution\"])\n",
    "    X = copy.deepcopy(df[\"problem statement\"])\n",
    "    Y = [process_tags(distinct_tags,x) for x in df[\"tags\"]]\n",
    "\n",
    "    mlb = MultiLabelBinarizer()\n",
    "    Y = mlb.fit_transform(Y)\n",
    "    \n",
    "    \n",
    "    \n",
    "    plot_class_distribution(Y,mlb.classes_)"
   ]
  },
  {
   "cell_type": "code",
   "execution_count": 11,
   "metadata": {
    "ExecuteTime": {
     "end_time": "2019-04-29T08:46:11.738584Z",
     "start_time": "2019-04-29T08:45:09.293537Z"
    },
    "scrolled": true
   },
   "outputs": [
    {
     "data": {
      "image/png": "[encoded data removed]",
      "text/plain": [
       "<Figure size 800x800 with 1 Axes>"
      ]
     },
     "metadata": {},
     "output_type": "display_data"
    }
   ],
   "source": [
    "data_preprocessing()"
   ]
  },
  {
   "cell_type": "code",
   "execution_count": 13,
   "metadata": {
    "ExecuteTime": {
     "end_time": "2019-04-29T08:46:11.808532Z",
     "start_time": "2019-04-29T08:46:11.739964Z"
    },
    "code_folding": [
     0
    ]
   },
   "outputs": [],
   "source": [
    "def reduce_sample_imbalance(X_train,Y_train):\n",
    "    \n",
    "    global X, Y, mlb, distinct_tags\n",
    "    \n",
    "    X_train = pd.DataFrame(X_train).values\n",
    "    \n",
    "    xtrain_col_index = X_train.shape[1]\n",
    "    xtrain_row_index = X_train.shape[0]\n",
    "    \n",
    "    XY = np.column_stack((X_train,Y_train))\n",
    "    \n",
    "    labels = [0]*len(mlb.classes_)\n",
    "    row_index_to_delete = []\n",
    "    ratio = []\n",
    "    \n",
    "    for index in range(Y_train.shape[1]):\n",
    "        ratio.append(np.sum(Y_train[:,index])/Y_train.shape[0])\n",
    "        if np.sum(Y_train[:,index])/Y_train.shape[0] > 0.03:\n",
    "            \n",
    "            labels[index] = 1\n",
    "            \n",
    "    ratio.sort()\n",
    "\n",
    "    count_deletions = [0]*len(labels)\n",
    "    for index in range(len(labels)):\n",
    "        if labels[index] == 1:\n",
    "\n",
    "            count_deletions[index] = int(np.sum(Y_train[:,index]) * 0.97)    \n",
    "    \n",
    "    for index in range(Y_train.shape[0]):\n",
    "        flag_to_delete = True\n",
    "        \n",
    "        for yindex in range(X_train.shape[1],XY.shape[1]):\n",
    "            if Y_train[index][yindex-X_train.shape[1]] == 1:\n",
    "                if labels[yindex-X_train.shape[1]] == 0 or count_deletions[yindex-X_train.shape[1]] <= 0:\n",
    "                    flag_to_delete = False\n",
    "                    break\n",
    "        \n",
    "        if flag_to_delete:\n",
    "            row_index_to_delete.append(index)\n",
    "            for i in range(len(count_deletions)):\n",
    "                count_deletions[i] -= Y_train[index][i]\n",
    "    \n",
    "        if sum(count_deletions) <= 0:\n",
    "            break;\n",
    "            \n",
    "    XY = np.delete(XY, row_index_to_delete,axis=0)\n",
    "    \n",
    "    ratio = []\n",
    "    for index in range(X_train.shape[1],XY.shape[1]):\n",
    "        ratio.append(np.sum(XY[:,index])/XY.shape[0])\n",
    "    \n",
    "    plot_class_distribution(XY[:,X_train.shape[1]:],mlb.classes_)\n",
    "    \n",
    "    \n",
    "    data_to_repeat_index = [1]*XY.shape[0]\n",
    "    labels = [0]*len(mlb.classes_)\n",
    "    ratio = []\n",
    "    for index in range(xtrain_col_index,XY.shape[1]):\n",
    "        ratio.append(np.sum(XY[:,index])/XY.shape[0])\n",
    "        if np.sum(XY[:,index])/XY.shape[0] < 0.02:\n",
    "            labels[index-xtrain_col_index] = 1\n",
    "    \n",
    "\n",
    "    ratio.sort()\n",
    "        \n",
    "    for index in range(XY.shape[0]):\n",
    "        for yindex in range(X_train.shape[1],XY.shape[1]):\n",
    "            if XY[index][yindex] == 1 and labels[yindex-X_train.shape[1]] > 0:\n",
    "                data_to_repeat_index[index] = 100\n",
    "                labels[yindex-X_train.shape[1]] = -1\n",
    "    \n",
    "    XY = np.repeat(XY, repeats = data_to_repeat_index, axis=0)\n",
    "\n",
    "    X_train = XY[:,0]\n",
    "    Y_train = XY[:,1:]\n",
    "            \n",
    "    X_train = pd.Series(X_train)\n",
    "    X_train = X_train.astype(str)\n",
    "    Y_train = Y_train.astype('int') \n",
    "    return X_train,Y_train"
   ]
  },
  {
   "cell_type": "code",
   "execution_count": 15,
   "metadata": {
    "ExecuteTime": {
     "end_time": "2019-04-29T08:46:11.830014Z",
     "start_time": "2019-04-29T08:46:11.810117Z"
    },
    "code_folding": [
     0
    ]
   },
   "outputs": [],
   "source": [
    "def oversample_train_data(X_train,Y_train):\n",
    "    \n",
    "    global X, Y, mlb, distinct_tags\n",
    "    \n",
    "    X_train = pd.DataFrame(X_train).values\n",
    "    \n",
    "    XY = np.column_stack((X_train,Y_train))\n",
    "    \n",
    "    labels = []\n",
    "    data_to_repeat_index = [1]*Y_train.shape[0]\n",
    "    \n",
    "    for index in range(Y_train.shape[1]):\n",
    "        if np.sum(Y_train[:,index])/Y_train.shape[0] < 0.02:\n",
    "            labels.append(index)\n",
    "    \n",
    "    for index in range(Y_train.shape[0]):\n",
    "        for label in labels:\n",
    "            if Y_train[index][label] == 1:\n",
    "                data_to_repeat_index[index] = 200\n",
    "    \n",
    "\n",
    "    XY = np.repeat(XY, repeats = data_to_repeat_index, axis=0)\n",
    "    \n",
    "    X_train = XY[:,0]\n",
    "    Y_train = XY[:,1:]\n",
    "        \n",
    "#     Ytrain = mlb.inverse_transform(Y_train)\n",
    "    \n",
    "#     print(Ytrain)\n",
    "    \n",
    "    X_train = pd.Series(X_train)\n",
    "    X_train = X_train.astype(str)\n",
    "    Y_train = Y_train.astype('int') \n",
    "    return X_train,Y_train"
   ]
  },
  {
   "cell_type": "code",
   "execution_count": null,
   "metadata": {},
   "outputs": [],
   "source": []
  }
 ],
 "metadata": {
  "kernelspec": {
   "display_name": "Python 3",
   "language": "python",
   "name": "python3"
  },
  "language_info": {
   "codemirror_mode": {
    "name": "ipython",
    "version": 3
   },
   "file_extension": ".py",
   "mimetype": "text/x-python",
   "name": "python",
   "nbconvert_exporter": "python",
   "pygments_lexer": "ipython3",
   "version": "3.6.7"
  }
 },
 "nbformat": 4,
 "nbformat_minor": 2
}
